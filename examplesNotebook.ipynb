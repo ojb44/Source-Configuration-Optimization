{
 "cells": [
  {
   "cell_type": "markdown",
   "metadata": {},
   "source": [
    "# Examples for finding optimum source configurations through basin hopping."
   ]
  },
  {
   "cell_type": "code",
   "execution_count": 1,
   "metadata": {},
   "outputs": [],
   "source": [
    "from SourceConfigurationOptimization.configOptimization import *"
   ]
  },
  {
   "cell_type": "markdown",
   "metadata": {},
   "source": [
    "## Initializing the Configuration"
   ]
  },
  {
   "cell_type": "markdown",
   "metadata": {},
   "source": [
    "First, we define the source type that we are working with. Suppose that firstly we would like to work with point sources at a distance from the capsule (radius a=1) of d=4.\n",
    "We first require the a_l coefficients of the Legendre expansion, which fully defines the source type."
   ]
  },
  {
   "cell_type": "code",
   "execution_count": 2,
   "metadata": {},
   "outputs": [],
   "source": [
    "aLValues=aLValuesArray(4.84,1)"
   ]
  },
  {
   "cell_type": "markdown",
   "metadata": {},
   "source": [
    "We then define an instance of the SourceType class"
   ]
  },
  {
   "cell_type": "code",
   "execution_count": 3,
   "metadata": {},
   "outputs": [],
   "source": [
    "pointSource4=SourceType(aLValues)"
   ]
  },
  {
   "cell_type": "markdown",
   "metadata": {},
   "source": [
    "We now wish to define our configuration. There are several ways to proceed; as an example, we will use 6 sources.\n",
    "\n",
    "First, we may work with SingleSource objects.\n",
    "We define the single sources by their polar coordinates and relative strength (theta, phi, strength)."
   ]
  },
  {
   "cell_type": "code",
   "execution_count": 4,
   "metadata": {},
   "outputs": [],
   "source": [
    "numSources=6"
   ]
  },
  {
   "cell_type": "code",
   "execution_count": 5,
   "metadata": {},
   "outputs": [],
   "source": [
    "s1=SingleSource(0,0,1)\n",
    "s2=SingleSource(0.1,0,1)\n",
    "s3=SingleSource(0.2,0,1)\n",
    "s4=SingleSource(0.3,0,1)\n",
    "s5=SingleSource(0.4,0,1)\n",
    "s6=SingleSource(0.5,0,1)"
   ]
  },
  {
   "cell_type": "markdown",
   "metadata": {},
   "source": [
    "Next we define our sourceArray, and then define the configuration object from the number of sources, SourceType, and array."
   ]
  },
  {
   "cell_type": "code",
   "execution_count": 6,
   "metadata": {},
   "outputs": [],
   "source": [
    "sourceArray=np.array([s1,s2,s3,s4,s5,s6])\n",
    "config1=Configuration(numSources,pointSource4,sourceArray=sourceArray)"
   ]
  },
  {
   "cell_type": "markdown",
   "metadata": {},
   "source": [
    "Alternatively, we may already have the information in the form of a configuration vector, which has all of the thetas, then phis, then strengths.\n",
    "A further option is sourceTuples, in the form of a tuple (or anything list-like) of ((theta,phi,strength),...)"
   ]
  },
  {
   "cell_type": "code",
   "execution_count": 7,
   "metadata": {},
   "outputs": [],
   "source": [
    "configVectorExample=np.array([0,0.1,0.2,0.3,0.4,0.5,0,0,0,0,0,0,1,1,1,1,1,1])\n",
    "config2=Configuration(numSources,pointSource4,configVector=configVectorExample)\n",
    "\n",
    "sourceTuplesExample=((0,0,1),(0.1,0,1),(0.2,0,1),(0.3,0,1),(0.4,0,1),(0.5,0,1))\n",
    "config3=Configuration(numSources,pointSource4,sourceTuples=sourceTuplesExample)"
   ]
  },
  {
   "cell_type": "code",
   "execution_count": 8,
   "metadata": {},
   "outputs": [
    {
     "name": "stdout",
     "output_type": "stream",
     "text": [
      "[0.  0.1 0.2 0.3 0.4 0.5 0.  0.  0.  0.  0.  0.  1.  1.  1.  1.  1.  1. ] [0.  0.1 0.2 0.3 0.4 0.5 0.  0.  0.  0.  0.  0.  1.  1.  1.  1.  1.  1. ] [0.  0.1 0.2 0.3 0.4 0.5 0.  0.  0.  0.  0.  0.  1.  1.  1.  1.  1.  1. ]\n"
     ]
    }
   ],
   "source": [
    "print(config1.configVector,config2.configVector,config3.configVector )"
   ]
  },
  {
   "cell_type": "markdown",
   "metadata": {},
   "source": [
    "Note that, to print with commas, you simple need to add repr()"
   ]
  },
  {
   "cell_type": "code",
   "execution_count": 9,
   "metadata": {},
   "outputs": [
    {
     "name": "stdout",
     "output_type": "stream",
     "text": [
      "array([0. , 0.1, 0.2, 0.3, 0.4, 0.5, 0. , 0. , 0. , 0. , 0. , 0. , 1. ,\n",
      "       1. , 1. , 1. , 1. , 1. ])\n"
     ]
    }
   ],
   "source": [
    "print(repr(config1.configVector))"
   ]
  },
  {
   "cell_type": "markdown",
   "metadata": {},
   "source": [
    "Lastly, we can generate a random starting configuration by supplying no initial information."
   ]
  },
  {
   "cell_type": "code",
   "execution_count": 10,
   "metadata": {
    "scrolled": true
   },
   "outputs": [
    {
     "name": "stdout",
     "output_type": "stream",
     "text": [
      "array([2.26927718, 0.08200011, 0.03627205, 1.51813656, 2.69726907,\n",
      "       3.05064266, 0.09245515, 5.8309031 , 4.67723544, 0.98526929,\n",
      "       0.33835717, 4.79533172, 1.        , 1.        , 1.        ,\n",
      "       1.        , 1.        , 1.        ])\n"
     ]
    }
   ],
   "source": [
    "config4=Configuration(numSources,pointSource4)\n",
    "print(repr(config4.configVector))"
   ]
  },
  {
   "cell_type": "code",
   "execution_count": 11,
   "metadata": {},
   "outputs": [
    {
     "data": {
      "text/plain": [
       "2.6291118199684114"
      ]
     },
     "execution_count": 11,
     "metadata": {},
     "output_type": "execute_result"
    }
   ],
   "source": [
    "numLTerms=40\n",
    "config1.sigmaRMSSqu(numLTerms)"
   ]
  },
  {
   "cell_type": "code",
   "execution_count": 12,
   "metadata": {},
   "outputs": [
    {
     "data": {
      "text/plain": [
       "162.1453613264472"
      ]
     },
     "execution_count": 12,
     "metadata": {},
     "output_type": "execute_result"
    }
   ],
   "source": [
    "config1.sigmaRMSPercent(numLTerms)"
   ]
  },
  {
   "cell_type": "markdown",
   "metadata": {},
   "source": [
    "## Optimizing the configuration"
   ]
  },
  {
   "cell_type": "markdown",
   "metadata": {},
   "source": [
    "Now that we have our configuration, we define an instance of the Optimization class.\n",
    "All settings are dealt with automatically - however, you will likely need to change the temp for good convergence. Aim to set the temp such that about 50% of basin hopping 'steps' are accepted."
   ]
  },
  {
   "cell_type": "code",
   "execution_count": 13,
   "metadata": {},
   "outputs": [],
   "source": [
    "optimizer=Optimization(config1,temp=0.0001)"
   ]
  },
  {
   "cell_type": "markdown",
   "metadata": {},
   "source": [
    "To run numIterations steps of basin hopping:"
   ]
  },
  {
   "cell_type": "code",
   "execution_count": 14,
   "metadata": {
    "scrolled": true
   },
   "outputs": [
    {
     "name": "stdout",
     "output_type": "stream",
     "text": [
      "basinhopping step 0: f 0.222399\n",
      "basinhopping step 1: f 0.000244165 trial_f 0.000244165 accepted 1  lowest_f 0.000244165\n",
      "found new global minimum on step 1 with function value 0.000244165\n",
      "basinhopping step 2: f 0.000244167 trial_f 0.000244167 accepted 1  lowest_f 0.000244165\n",
      "basinhopping step 3: f 0.000244167 trial_f 0.000244167 accepted 1  lowest_f 0.000244165\n",
      "basinhopping step 4: f 0.000244171 trial_f 0.000244171 accepted 1  lowest_f 0.000244165\n",
      "basinhopping step 5: f 0.000244166 trial_f 0.000244166 accepted 1  lowest_f 0.000244165\n"
     ]
    },
    {
     "data": {
      "text/plain": [
       "array([-3.14166838e+00, -1.57079759e+00, -4.42874414e-05,  1.57076528e+00,\n",
       "        1.57071900e+00,  4.71234579e+00,  5.65530927e-01, -9.63981970e-01,\n",
       "       -3.04221293e-03, -9.63993091e-01,  6.06850026e-01,  6.06784822e-01,\n",
       "        1.36476395e+00,  1.36464141e+00,  1.36457286e+00,  1.36475595e+00,\n",
       "        1.36467564e+00,  1.36467920e+00])"
      ]
     },
     "execution_count": 14,
     "metadata": {},
     "output_type": "execute_result"
    }
   ],
   "source": [
    "numIterations=5\n",
    "optimizer.optimize(numIterations)"
   ]
  },
  {
   "cell_type": "markdown",
   "metadata": {},
   "source": [
    "As it stands, this will update the initial configuration."
   ]
  },
  {
   "cell_type": "code",
   "execution_count": 15,
   "metadata": {
    "scrolled": true
   },
   "outputs": [
    {
     "data": {
      "text/plain": [
       "array([-3.14166838e+00, -1.57079759e+00, -4.42874414e-05,  1.57076528e+00,\n",
       "        1.57071900e+00,  4.71234579e+00,  5.65530927e-01, -9.63981970e-01,\n",
       "       -3.04221293e-03, -9.63993091e-01,  6.06850026e-01,  6.06784822e-01,\n",
       "        1.36476395e+00,  1.36464141e+00,  1.36457286e+00,  1.36475595e+00,\n",
       "        1.36467564e+00,  1.36467920e+00])"
      ]
     },
     "execution_count": 15,
     "metadata": {},
     "output_type": "execute_result"
    }
   ],
   "source": [
    "config1.configVector"
   ]
  },
  {
   "cell_type": "code",
   "execution_count": 16,
   "metadata": {},
   "outputs": [
    {
     "data": {
      "text/plain": [
       "1.5625782582745884"
      ]
     },
     "execution_count": 16,
     "metadata": {},
     "output_type": "execute_result"
    }
   ],
   "source": [
    "config1.sigmaRMSPercent(numLTerms)"
   ]
  },
  {
   "cell_type": "markdown",
   "metadata": {},
   "source": [
    "Note that the first run will typically take longer, whilst numba compiles the functions.  "
   ]
  },
  {
   "cell_type": "markdown",
   "metadata": {},
   "source": [
    "## Reduced Degrees of Freedom"
   ]
  },
  {
   "cell_type": "markdown",
   "metadata": {},
   "source": [
    "For larger numbers of sources, we can speed up convergence by only dealing with half the sources - for reasons why see the paper.\n",
    "In this case, we define our configuration using the ConfigurationRDOF class."
   ]
  },
  {
   "cell_type": "code",
   "execution_count": 17,
   "metadata": {},
   "outputs": [],
   "source": [
    "configVectorRDOF=np.array([0,0.1,0.2,0,0,0,1,1,1])\n",
    "configRDOF=ConfigurationRDOF(numSources,pointSource4,configVector=configVectorRDOF)"
   ]
  },
  {
   "cell_type": "markdown",
   "metadata": {},
   "source": [
    "To recover full configuration vector/source array/source tuples:"
   ]
  },
  {
   "cell_type": "code",
   "execution_count": 18,
   "metadata": {},
   "outputs": [
    {
     "data": {
      "text/plain": [
       "[(0.0, 0.0, 1.0),\n",
       " (0.1, 0.0, 1.0),\n",
       " (0.2, 0.0, 1.0),\n",
       " (3.141592653589793, 3.141592653589793, 1.0),\n",
       " (3.041592653589793, 3.141592653589793, 1.0),\n",
       " (2.941592653589793, 3.141592653589793, 1.0)]"
      ]
     },
     "execution_count": 18,
     "metadata": {},
     "output_type": "execute_result"
    }
   ],
   "source": [
    "configRDOF.fullConfigVector()\n",
    "configRDOF.fullSourceArray()\n",
    "configRDOF.fullSourceTuples()"
   ]
  },
  {
   "cell_type": "markdown",
   "metadata": {},
   "source": [
    "Can be optimized exactly as before."
   ]
  },
  {
   "cell_type": "code",
   "execution_count": 19,
   "metadata": {},
   "outputs": [
    {
     "name": "stdout",
     "output_type": "stream",
     "text": [
      "basinhopping step 0: f 0.2224\n",
      "basinhopping step 1: f 0.000244164 trial_f 0.000244164 accepted 1  lowest_f 0.000244164\n",
      "found new global minimum on step 1 with function value 0.000244164\n",
      "basinhopping step 2: f 0.000244164 trial_f 0.000244164 accepted 1  lowest_f 0.000244164\n",
      "basinhopping step 3: f 0.000244164 trial_f 0.000244164 accepted 1  lowest_f 0.000244164\n",
      "found new global minimum on step 3 with function value 0.000244164\n",
      "basinhopping step 4: f 0.000244164 trial_f 0.000244164 accepted 1  lowest_f 0.000244164\n",
      "basinhopping step 5: f 0.000244164 trial_f 0.000244164 accepted 1  lowest_f 0.000244164\n",
      "found new global minimum on step 5 with function value 0.000244164\n"
     ]
    },
    {
     "data": {
      "text/plain": [
       "array([0.        , 1.57079401, 4.7123915 , 0.        , 0.        ,\n",
       "       1.57079756, 1.        , 1.00000434, 0.99999957])"
      ]
     },
     "execution_count": 19,
     "metadata": {},
     "output_type": "execute_result"
    }
   ],
   "source": [
    "optimizerRDOF=Optimization(configRDOF,temp=0.0001)\n",
    "numIterations=5\n",
    "optimizerRDOF.optimize(numIterations)"
   ]
  },
  {
   "cell_type": "code",
   "execution_count": 20,
   "metadata": {
    "scrolled": true
   },
   "outputs": [
    {
     "data": {
      "text/plain": [
       "1.5625755267082277"
      ]
     },
     "execution_count": 20,
     "metadata": {},
     "output_type": "execute_result"
    }
   ],
   "source": [
    "configRDOF.sigmaRMSPercent(numLTerms)"
   ]
  },
  {
   "cell_type": "markdown",
   "metadata": {},
   "source": [
    "## Studying Imperfections"
   ]
  },
  {
   "cell_type": "markdown",
   "metadata": {},
   "source": [
    "First, define the standard deviations in angles (in radians) and intensities (as fraction of mean), alongside the number of perturbed configurations you would like in the ensemble."
   ]
  },
  {
   "cell_type": "code",
   "execution_count": 21,
   "metadata": {},
   "outputs": [],
   "source": [
    "stdTheta=0.035\n",
    "stdPhi=0.035\n",
    "stdInt=0.02\n",
    "numConfigs=1000"
   ]
  },
  {
   "cell_type": "markdown",
   "metadata": {},
   "source": [
    "Then use the stability test function, which returns the factor by which the perturbations increase sigma_rms from the initial, 'ideal' configuration, as well as the standard deviation in sigma_rms from these perturbations."
   ]
  },
  {
   "cell_type": "code",
   "execution_count": 22,
   "metadata": {},
   "outputs": [
    {
     "data": {
      "text/plain": [
       "(2.9702498896430396, 0.010775458181017352)"
      ]
     },
     "execution_count": 22,
     "metadata": {},
     "output_type": "execute_result"
    }
   ],
   "source": [
    "config1.stabilityTest(numLTerms,numConfigs,stdTheta,stdPhi,stdInt)"
   ]
  },
  {
   "cell_type": "markdown",
   "metadata": {},
   "source": [
    "## Lasers"
   ]
  },
  {
   "cell_type": "markdown",
   "metadata": {},
   "source": [
    "For lasers instead of point sources, all is identical, apart from the SourceType.\n",
    "Laser type is defined by a super-gaussian (see paper).\n",
    "Need to give etaPerp, beta, and alpha."
   ]
  },
  {
   "cell_type": "code",
   "execution_count": 23,
   "metadata": {},
   "outputs": [],
   "source": [
    "etaPerp=0.9\n",
    "beta=5\n",
    "alpha=0.95\n",
    "\n",
    "aLValuesLaser=aLValuesLaserArray(etaPerp,beta,alpha)\n",
    "laser=SourceType(aLValuesLaser)"
   ]
  },
  {
   "cell_type": "markdown",
   "metadata": {},
   "source": [
    "From this point, all is equivalent to the pointSources."
   ]
  }
 ],
 "metadata": {
  "kernelspec": {
   "display_name": "Python 3",
   "language": "python",
   "name": "python3"
  },
  "language_info": {
   "codemirror_mode": {
    "name": "ipython",
    "version": 3
   },
   "file_extension": ".py",
   "mimetype": "text/x-python",
   "name": "python",
   "nbconvert_exporter": "python",
   "pygments_lexer": "ipython3",
   "version": "3.8.3"
  }
 },
 "nbformat": 4,
 "nbformat_minor": 4
}
