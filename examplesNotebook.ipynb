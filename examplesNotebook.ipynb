{
 "cells": [
  {
   "cell_type": "markdown",
   "metadata": {},
   "source": [
    "# Examples for finding optimum source configurations through basin hopping."
   ]
  },
  {
   "cell_type": "code",
   "execution_count": 1,
   "metadata": {},
   "outputs": [],
   "source": [
    "from configOptimization import *"
   ]
  },
  {
   "cell_type": "markdown",
   "metadata": {},
   "source": [
    "## Initializing the Configuration"
   ]
  },
  {
   "cell_type": "markdown",
   "metadata": {},
   "source": [
    "First, we define the source type that we are working with. Suppose that firstly we would like to work with point sources at a distance from the capsule (radius a=1) of d=4.\n",
    "We first require the a_l coefficients of the Legendre expansion, which fully defines the source type."
   ]
  },
  {
   "cell_type": "code",
   "execution_count": 2,
   "metadata": {},
   "outputs": [],
   "source": [
    "aLValues=aLValuesArray(4.84,1)"
   ]
  },
  {
   "cell_type": "markdown",
   "metadata": {},
   "source": [
    "We then define an instance of the SourceType class"
   ]
  },
  {
   "cell_type": "code",
   "execution_count": 3,
   "metadata": {},
   "outputs": [],
   "source": [
    "pointSource4=SourceType(aLValues)"
   ]
  },
  {
   "cell_type": "markdown",
   "metadata": {},
   "source": [
    "We now wish to define our configuration. There are several ways to proceed; as an example, we will use 6 sources.\n",
    "\n",
    "First, we may work with SingleSource objects.\n",
    "We define the single sources by their polar coordinates and relative strength (theta, phi, strength)."
   ]
  },
  {
   "cell_type": "code",
   "execution_count": 4,
   "metadata": {},
   "outputs": [],
   "source": [
    "numSources=6"
   ]
  },
  {
   "cell_type": "code",
   "execution_count": 5,
   "metadata": {},
   "outputs": [],
   "source": [
    "s1=SingleSource(0,0,1)\n",
    "s2=SingleSource(0.1,0,1)\n",
    "s3=SingleSource(0.2,0,1)\n",
    "s4=SingleSource(0.3,0,1)\n",
    "s5=SingleSource(0.4,0,1)\n",
    "s6=SingleSource(0.5,0,1)"
   ]
  },
  {
   "cell_type": "markdown",
   "metadata": {},
   "source": [
    "Next we define our sourceArray, and then define the configuration object from the number of sources, SourceType, and array."
   ]
  },
  {
   "cell_type": "code",
   "execution_count": 6,
   "metadata": {},
   "outputs": [],
   "source": [
    "sourceArray=np.array([s1,s2,s3,s4,s5,s6])\n",
    "config1=Configuration(numSources,pointSource4,sourceArray=sourceArray)"
   ]
  },
  {
   "cell_type": "markdown",
   "metadata": {},
   "source": [
    "Alternatively, we may already have the information in the form of a configuration vector, which has all of the thetas, then phis, then strengths.\n",
    "A further option is sourceTuples, in the form of a tuple (or anything list-like) of ((theta,phi,strength),...)"
   ]
  },
  {
   "cell_type": "code",
   "execution_count": 7,
   "metadata": {},
   "outputs": [],
   "source": [
    "configVectorExample=np.array([0,0.1,0.2,0.3,0.4,0.5,0,0,0,0,0,0,1,1,1,1,1,1])\n",
    "config2=Configuration(numSources,pointSource4,configVector=configVectorExample)\n",
    "\n",
    "sourceTuplesExample=((0,0,1),(0.1,0,1),(0.2,0,1),(0.3,0,1),(0.4,0,1),(0.5,0,1))\n",
    "config3=Configuration(numSources,pointSource4,sourceTuples=sourceTuplesExample)"
   ]
  },
  {
   "cell_type": "code",
   "execution_count": 8,
   "metadata": {},
   "outputs": [
    {
     "name": "stdout",
     "output_type": "stream",
     "text": [
      "[0.  0.1 0.2 0.3 0.4 0.5 0.  0.  0.  0.  0.  0.  1.  1.  1.  1.  1.  1. ] [0.  0.1 0.2 0.3 0.4 0.5 0.  0.  0.  0.  0.  0.  1.  1.  1.  1.  1.  1. ] [0.  0.1 0.2 0.3 0.4 0.5 0.  0.  0.  0.  0.  0.  1.  1.  1.  1.  1.  1. ]\n"
     ]
    }
   ],
   "source": [
    "print(config1.configVector,config2.configVector,config3.configVector )"
   ]
  },
  {
   "cell_type": "markdown",
   "metadata": {},
   "source": [
    "Note that, to print with commas, you simple need to add repr()"
   ]
  },
  {
   "cell_type": "code",
   "execution_count": 9,
   "metadata": {},
   "outputs": [
    {
     "name": "stdout",
     "output_type": "stream",
     "text": [
      "array([0. , 0.1, 0.2, 0.3, 0.4, 0.5, 0. , 0. , 0. , 0. , 0. , 0. , 1. ,\n",
      "       1. , 1. , 1. , 1. , 1. ])\n"
     ]
    }
   ],
   "source": [
    "print(repr(config1.configVector))"
   ]
  },
  {
   "cell_type": "markdown",
   "metadata": {},
   "source": [
    "Lastly, we can generate a random starting configuration by supplying no initial information."
   ]
  },
  {
   "cell_type": "code",
   "execution_count": 10,
   "metadata": {
    "scrolled": true
   },
   "outputs": [
    {
     "name": "stdout",
     "output_type": "stream",
     "text": [
      "array([0.49251656, 3.016404  , 2.47929993, 2.56432034, 2.04632809,\n",
      "       2.11818626, 3.77410122, 3.17671032, 5.29376344, 4.16524292,\n",
      "       4.21222107, 2.74253207, 1.        , 1.        , 1.        ,\n",
      "       1.        , 1.        , 1.        ])\n"
     ]
    }
   ],
   "source": [
    "config4=Configuration(numSources,pointSource4)\n",
    "print(repr(config4.configVector))"
   ]
  },
  {
   "cell_type": "code",
   "execution_count": 11,
   "metadata": {},
   "outputs": [
    {
     "data": {
      "text/plain": [
       "2.6291118199684114"
      ]
     },
     "execution_count": 11,
     "metadata": {},
     "output_type": "execute_result"
    }
   ],
   "source": [
    "numLTerms=40\n",
    "config1.sigmaRMSSqu(numLTerms)"
   ]
  },
  {
   "cell_type": "code",
   "execution_count": 12,
   "metadata": {},
   "outputs": [
    {
     "data": {
      "text/plain": [
       "162.1453613264472"
      ]
     },
     "execution_count": 12,
     "metadata": {},
     "output_type": "execute_result"
    }
   ],
   "source": [
    "config1.sigmaRMSPercent(numLTerms)"
   ]
  },
  {
   "cell_type": "markdown",
   "metadata": {},
   "source": [
    "## Optimizing the configuration"
   ]
  },
  {
   "cell_type": "markdown",
   "metadata": {},
   "source": [
    "Now that we have our configuration, we define an instance of the Optimization class.\n",
    "All settings are dealt with automatically - however, you will likely need to change the temp for good convergence. Aim to set the temp such that about 50% of basin hopping 'steps' are accepted."
   ]
  },
  {
   "cell_type": "code",
   "execution_count": 13,
   "metadata": {},
   "outputs": [],
   "source": [
    "optimizer=Optimization(config1,temp=0.0001)"
   ]
  },
  {
   "cell_type": "markdown",
   "metadata": {},
   "source": [
    "To run numIterations steps of basin hopping:"
   ]
  },
  {
   "cell_type": "code",
   "execution_count": 14,
   "metadata": {
    "scrolled": true
   },
   "outputs": [
    {
     "name": "stdout",
     "output_type": "stream",
     "text": [
      "basinhopping step 0: f 0.222397\n",
      "basinhopping step 1: f 0.000241926 trial_f 0.000241926 accepted 1  lowest_f 0.000241926\n",
      "found new global minimum on step 1 with function value 0.000241926\n",
      "basinhopping step 2: f 0.000241924 trial_f 0.000241924 accepted 1  lowest_f 0.000241924\n",
      "found new global minimum on step 2 with function value 0.000241924\n",
      "basinhopping step 3: f 0.000241924 trial_f 0.000241924 accepted 1  lowest_f 0.000241924\n",
      "basinhopping step 4: f 0.000241925 trial_f 0.000241925 accepted 1  lowest_f 0.000241924\n",
      "basinhopping step 5: f 0.000241925 trial_f 0.000241925 accepted 1  lowest_f 0.000241924\n"
     ]
    },
    {
     "data": {
      "text/plain": [
       "array([-3.72063045, -1.48947076, -0.57907376,  0.99895715,  1.65211056,\n",
       "        4.14057623,  0.67358504, -1.02227649,  0.67346443,  0.49606697,\n",
       "       -1.02222192,  0.49607773,  1.7063689 ,  1.70624916,  1.70638724,\n",
       "        1.70630758,  1.70634833,  1.70632365])"
      ]
     },
     "execution_count": 14,
     "metadata": {},
     "output_type": "execute_result"
    }
   ],
   "source": [
    "numIterations=5\n",
    "optimizer.optimize(numIterations)"
   ]
  },
  {
   "cell_type": "markdown",
   "metadata": {},
   "source": [
    "As it stands, this will update the initial configuration."
   ]
  },
  {
   "cell_type": "code",
   "execution_count": 15,
   "metadata": {
    "scrolled": true
   },
   "outputs": [
    {
     "data": {
      "text/plain": [
       "array([-3.72063045, -1.48947076, -0.57907376,  0.99895715,  1.65211056,\n",
       "        4.14057623,  0.67358504, -1.02227649,  0.67346443,  0.49606697,\n",
       "       -1.02222192,  0.49607773,  1.7063689 ,  1.70624916,  1.70638724,\n",
       "        1.70630758,  1.70634833,  1.70632365])"
      ]
     },
     "execution_count": 15,
     "metadata": {},
     "output_type": "execute_result"
    }
   ],
   "source": [
    "config1.configVector"
   ]
  },
  {
   "cell_type": "code",
   "execution_count": 16,
   "metadata": {},
   "outputs": [
    {
     "data": {
      "text/plain": [
       "1.5625771917917166"
      ]
     },
     "execution_count": 16,
     "metadata": {},
     "output_type": "execute_result"
    }
   ],
   "source": [
    "config1.sigmaRMSPercent(numLTerms)"
   ]
  },
  {
   "cell_type": "markdown",
   "metadata": {},
   "source": [
    "Note that the first run will typically take longer, whilst numba compiles the functions.  "
   ]
  },
  {
   "cell_type": "markdown",
   "metadata": {},
   "source": [
    "## Reduced Degrees of Freedom"
   ]
  },
  {
   "cell_type": "markdown",
   "metadata": {},
   "source": [
    "For larger numbers of sources, we can speed up convergence by only dealing with half the sources - for reasons why see the paper.\n",
    "In this case, we define our configuration using the ConfigurationRDOF class."
   ]
  },
  {
   "cell_type": "code",
   "execution_count": 17,
   "metadata": {},
   "outputs": [],
   "source": [
    "configVectorRDOF=np.array([0,0.1,0.2,0,0,0,1,1,1])\n",
    "configRDOF=ConfigurationRDOF(numSources,pointSource4,configVector=configVectorRDOF)"
   ]
  },
  {
   "cell_type": "markdown",
   "metadata": {},
   "source": [
    "To recover full configuration vector/source array/source tuples:"
   ]
  },
  {
   "cell_type": "code",
   "execution_count": 18,
   "metadata": {},
   "outputs": [
    {
     "data": {
      "text/plain": [
       "[(0.0, 0.0, 1.0),\n",
       " (0.1, 0.0, 1.0),\n",
       " (0.2, 0.0, 1.0),\n",
       " (3.141592653589793, 3.141592653589793, 1.0),\n",
       " (3.041592653589793, 3.141592653589793, 1.0),\n",
       " (2.941592653589793, 3.141592653589793, 1.0)]"
      ]
     },
     "execution_count": 18,
     "metadata": {},
     "output_type": "execute_result"
    }
   ],
   "source": [
    "configRDOF.fullConfigVector()\n",
    "configRDOF.fullSourceArray()\n",
    "configRDOF.fullSourceTuples()"
   ]
  },
  {
   "cell_type": "markdown",
   "metadata": {},
   "source": [
    "Can be optimized exactly as before."
   ]
  },
  {
   "cell_type": "code",
   "execution_count": 19,
   "metadata": {},
   "outputs": [
    {
     "name": "stdout",
     "output_type": "stream",
     "text": [
      "basinhopping step 0: f 0.222398\n",
      "basinhopping step 1: f 0.000241923 trial_f 0.000241923 accepted 1  lowest_f 0.000241923\n",
      "found new global minimum on step 1 with function value 0.000241923\n",
      "basinhopping step 2: f 0.000241923 trial_f 0.000241923 accepted 1  lowest_f 0.000241923\n",
      "found new global minimum on step 2 with function value 0.000241923\n",
      "basinhopping step 3: f 0.000241923 trial_f 0.000241923 accepted 1  lowest_f 0.000241923\n",
      "basinhopping step 4: f 0.000241923 trial_f 0.000241923 accepted 1  lowest_f 0.000241923\n",
      "basinhopping step 5: f 0.000241923 trial_f 0.000241923 accepted 1  lowest_f 0.000241923\n"
     ]
    },
    {
     "data": {
      "text/plain": [
       "array([0.        , 1.57079631, 4.71238967, 0.        , 0.        ,\n",
       "       1.57079694, 1.        , 0.99999912, 1.00000034])"
      ]
     },
     "execution_count": 19,
     "metadata": {},
     "output_type": "execute_result"
    }
   ],
   "source": [
    "optimizerRDOF=Optimization(configRDOF,temp=0.0001)\n",
    "numIterations=5\n",
    "optimizerRDOF.optimize(numIterations)"
   ]
  },
  {
   "cell_type": "code",
   "execution_count": 20,
   "metadata": {},
   "outputs": [
    {
     "data": {
      "text/plain": [
       "1.5625755087710673"
      ]
     },
     "execution_count": 20,
     "metadata": {},
     "output_type": "execute_result"
    }
   ],
   "source": [
    "configRDOF.sigmaRMSPercent(numLTerms)"
   ]
  },
  {
   "cell_type": "markdown",
   "metadata": {},
   "source": [
    "## Lasers"
   ]
  },
  {
   "cell_type": "markdown",
   "metadata": {},
   "source": [
    "For lasers instead of point sources, all is identical, apart from the SourceType.\n",
    "Laser type is defined by a super-gaussian (see paper).\n",
    "Need to give etaPerp, beta, and alpha."
   ]
  },
  {
   "cell_type": "code",
   "execution_count": 21,
   "metadata": {},
   "outputs": [],
   "source": [
    "etaPerp=0.9\n",
    "beta=5\n",
    "alpha=0.95\n",
    "\n",
    "aLValuesLaser=aLValuesLaserArray(etaPerp,beta,alpha)\n",
    "laser=SourceType(aLValuesLaser)"
   ]
  },
  {
   "cell_type": "markdown",
   "metadata": {},
   "source": [
    "From this point, all is equivalent to the pointSources."
   ]
  }
 ],
 "metadata": {
  "kernelspec": {
   "display_name": "Python 3",
   "language": "python",
   "name": "python3"
  },
  "language_info": {
   "codemirror_mode": {
    "name": "ipython",
    "version": 3
   },
   "file_extension": ".py",
   "mimetype": "text/x-python",
   "name": "python",
   "nbconvert_exporter": "python",
   "pygments_lexer": "ipython3",
   "version": "3.8.3"
  }
 },
 "nbformat": 4,
 "nbformat_minor": 4
}
